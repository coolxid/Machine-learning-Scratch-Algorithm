{
 "cells": [
  {
   "cell_type": "markdown",
   "metadata": {
    "internals": {
     "slide_type": "subslide"
    },
    "slideshow": {
     "slide_type": "slide"
    }
   },
   "source": [
    "In this task we have to implement a linear regression. Specifically you are required to implement following four functions:\n"
   ]
  },
  {
   "cell_type": "code",
   "execution_count": 8,
   "metadata": {
    "internals": {},
    "scrolled": true,
    "slideshow": {
     "slide_type": "-"
    }
   },
   "outputs": [
    {
     "name": "stdout",
     "output_type": "stream",
     "text": [
      "Populating the interactive namespace from numpy and matplotlib\n"
     ]
    }
   ],
   "source": [
    "%pylab inline"
   ]
  },
  {
   "cell_type": "code",
   "execution_count": 9,
   "metadata": {
    "internals": {
     "slide_helper": "subslide_end"
    },
    "scrolled": true,
    "slide_helper": "slide_end",
    "slideshow": {
     "slide_type": "-"
    }
   },
   "outputs": [
    {
     "name": "stdout",
     "output_type": "stream",
     "text": [
      "Setting custom matplotlib visual style\n"
     ]
    }
   ],
   "source": [
    "#Cutomize the Matplotlib for beautiful plots...\n",
    "import dmStyle # download the file from slate\n",
    "dmStyle.customize_mpl()"
   ]
  },
  {
   "cell_type": "code",
   "execution_count": 10,
   "metadata": {
    "collapsed": true,
    "internals": {
     "frag_helper": "fragment_end",
     "frag_number": 10,
     "slide_helper": "subslide_end"
    },
    "scrolled": true,
    "slide_helper": "slide_end",
    "slideshow": {
     "slide_type": "-"
    }
   },
   "outputs": [],
   "source": [
    "import pandas as pd\n",
    "import numpy as np"
   ]
  },
  {
   "cell_type": "markdown",
   "metadata": {
    "internals": {
     "frag_helper": "fragment_end",
     "frag_number": 10,
     "slide_type": "subslide"
    },
    "slideshow": {
     "slide_type": "slide"
    }
   },
   "source": [
    "#Let's Load Some Real Data"
   ]
  },
  {
   "cell_type": "code",
   "execution_count": 11,
   "metadata": {
    "internals": {
     "frag_helper": "fragment_end",
     "frag_number": 10,
     "slide_type": "subslide"
    },
    "scrolled": true,
    "slideshow": {
     "slide_type": "slide"
    }
   },
   "outputs": [
    {
     "data": {
      "text/html": [
       "<div style=\"max-height:1000px;max-width:1500px;overflow:auto;\">\n",
       "<table border=\"1\" class=\"dataframe\">\n",
       "  <thead>\n",
       "    <tr style=\"text-align: right;\">\n",
       "      <th></th>\n",
       "      <th>6.1101</th>\n",
       "      <th>17.592</th>\n",
       "    </tr>\n",
       "  </thead>\n",
       "  <tbody>\n",
       "    <tr>\n",
       "      <th>0</th>\n",
       "      <td> 5.5277</td>\n",
       "      <td>  9.1302</td>\n",
       "    </tr>\n",
       "    <tr>\n",
       "      <th>1</th>\n",
       "      <td> 8.5186</td>\n",
       "      <td> 13.6620</td>\n",
       "    </tr>\n",
       "    <tr>\n",
       "      <th>2</th>\n",
       "      <td> 7.0032</td>\n",
       "      <td> 11.8540</td>\n",
       "    </tr>\n",
       "    <tr>\n",
       "      <th>3</th>\n",
       "      <td> 5.8598</td>\n",
       "      <td>  6.8233</td>\n",
       "    </tr>\n",
       "    <tr>\n",
       "      <th>4</th>\n",
       "      <td> 8.3829</td>\n",
       "      <td> 11.8860</td>\n",
       "    </tr>\n",
       "  </tbody>\n",
       "</table>\n",
       "</div>"
      ],
      "text/plain": [
       "   6.1101   17.592\n",
       "0  5.5277   9.1302\n",
       "1  8.5186  13.6620\n",
       "2  7.0032  11.8540\n",
       "3  5.8598   6.8233\n",
       "4  8.3829  11.8860"
      ]
     },
     "execution_count": 11,
     "metadata": {},
     "output_type": "execute_result"
    }
   ],
   "source": [
    "rd=pd.read_csv('./data/reg-data.txt')\n",
    "rd.head()"
   ]
  },
  {
   "cell_type": "code",
   "execution_count": 12,
   "metadata": {
    "internals": {
     "frag_helper": "fragment_end",
     "frag_number": 10
    },
    "scrolled": true,
    "slideshow": {
     "slide_type": "-"
    }
   },
   "outputs": [],
   "source": [
    "X=rd.ix[:,0].values # \n",
    "Y=rd.ix[:,1].values"
   ]
  },
  {
   "cell_type": "code",
   "execution_count": 13,
   "metadata": {
    "internals": {
     "frag_helper": "fragment_end",
     "frag_number": 10,
     "slide_helper": "subslide_end"
    },
    "scrolled": true,
    "slide_helper": "slide_end",
    "slideshow": {
     "slide_type": "-"
    }
   },
   "outputs": [
    {
     "name": "stdout",
     "output_type": "stream",
     "text": [
      "(96L, 1L) (96L, 1L)\n"
     ]
    }
   ],
   "source": [
    "#reshape the data for simplifying the computations....\n",
    "if X.ndim==1:\n",
    "    X=X.reshape((len(X),1))\n",
    "Y=Y.reshape((len(Y),1))\n",
    "print X.shape, Y.shape"
   ]
  },
  {
   "cell_type": "code",
   "execution_count": 7,
   "metadata": {
    "internals": {
     "frag_helper": "fragment_end",
     "frag_number": 16,
     "slide_helper": "subslide_end"
    },
    "scrolled": false,
    "slide_helper": "slide_end",
    "slideshow": {
     "slide_type": "fragment"
    }
   },
   "outputs": [
    {
     "data": {
      "text/plain": [
       "<matplotlib.text.Text at 0x7f915b245650>"
      ]
     },
     "execution_count": 7,
     "metadata": {},
     "output_type": "execute_result"
    },
    {
     "data": {
      "image/png": "[encoded data removed]",
      "text/plain": [
       "<matplotlib.figure.Figure at 0x7f915b479710>"
      ]
     },
     "metadata": {},
     "output_type": "display_data"
    }
   ],
   "source": [
    "#plot the data...\n",
    "plt.scatter(X,Y)\n",
    "plt.xlabel('X')\n",
    "plt.ylabel('Y')"
   ]
  },
  {
   "cell_type": "markdown",
   "metadata": {},
   "source": [
    "Lets append a vector of dummy 1's at the start of X to simplify the calculations...\n",
    "\n",
    "Now by adding an extra column to our X input matrix we can write our hypothesis in the form of matrix-vector product. I.e. earlier we were writing our hypothesis as: $h_\\theta(x^i)=\\theta_0+ x^i *\\theta_1$, [*Remember the notation we are using, superscript is being used to represent the example, and subscript is being used for representing the feature, so $x^i_j$ means j-th feature of i-th example in our set*]\n",
    "\n",
    "Since we can write this expression in the form of dot product, i.e.  $h_\\theta(x^i)=[\\theta_0\\;\\;\\;\\; \\theta_1] \\begin{bmatrix}1\\\\ x^i\\end{bmatrix}$\n",
    "\n",
    "So to simplify the calculations we will append an extra 1 at the start of each example to perform these computations using matrix-vector product."
   ]
  },
  {
   "cell_type": "code",
   "execution_count": 14,
   "metadata": {
    "scrolled": true
   },
   "outputs": [],
   "source": [
    "#Lets append a vector of dummy 1's at the start of X to simplify the calculations...\n",
    "X=np.hstack((np.ones((X.shape[0],1)),X))"
   ]
  },
  {
   "cell_type": "code",
   "execution_count": 15,
   "metadata": {
    "scrolled": true
   },
   "outputs": [
    {
     "name": "stdout",
     "output_type": "stream",
     "text": [
      "[[  1.       5.5277]\n",
      " [  1.       8.5186]\n",
      " [  1.       7.0032]\n",
      " [  1.       5.8598]\n",
      " [  1.       8.3829]\n",
      " [  1.       7.4764]\n",
      " [  1.       8.5781]\n",
      " [  1.       6.4862]\n",
      " [  1.       5.0546]\n",
      " [  1.       5.7107]\n",
      " [  1.      14.164 ]\n",
      " [  1.       5.734 ]\n",
      " [  1.       8.4084]\n",
      " [  1.       5.6407]\n",
      " [  1.       5.3794]\n",
      " [  1.       6.3654]\n",
      " [  1.       5.1301]\n",
      " [  1.       6.4296]\n",
      " [  1.       7.0708]\n",
      " [  1.       6.1891]\n",
      " [  1.      20.27  ]\n",
      " [  1.       5.4901]\n",
      " [  1.       6.3261]\n",
      " [  1.       5.5649]\n",
      " [  1.      18.945 ]\n",
      " [  1.      12.828 ]\n",
      " [  1.      10.957 ]\n",
      " [  1.      13.176 ]\n",
      " [  1.      22.203 ]\n",
      " [  1.       5.2524]\n",
      " [  1.       6.5894]\n",
      " [  1.       9.2482]\n",
      " [  1.       5.8918]\n",
      " [  1.       8.2111]\n",
      " [  1.       7.9334]\n",
      " [  1.       8.0959]\n",
      " [  1.       5.6063]\n",
      " [  1.      12.836 ]\n",
      " [  1.       6.3534]\n",
      " [  1.       5.4069]\n",
      " [  1.       6.8825]\n",
      " [  1.      11.708 ]\n",
      " [  1.       5.7737]\n",
      " [  1.       7.8247]\n",
      " [  1.       7.0931]\n",
      " [  1.       5.0702]\n",
      " [  1.       5.8014]\n",
      " [  1.      11.7   ]\n",
      " [  1.       5.5416]\n",
      " [  1.       7.5402]\n",
      " [  1.       5.3077]\n",
      " [  1.       7.4239]\n",
      " [  1.       7.6031]\n",
      " [  1.       6.3328]\n",
      " [  1.       6.3589]\n",
      " [  1.       6.2742]\n",
      " [  1.       5.6397]\n",
      " [  1.       9.3102]\n",
      " [  1.       9.4536]\n",
      " [  1.       8.8254]\n",
      " [  1.       5.1793]\n",
      " [  1.      21.279 ]\n",
      " [  1.      14.908 ]\n",
      " [  1.      18.959 ]\n",
      " [  1.       7.2182]\n",
      " [  1.       8.2951]\n",
      " [  1.      10.236 ]\n",
      " [  1.       5.4994]\n",
      " [  1.      20.341 ]\n",
      " [  1.      10.136 ]\n",
      " [  1.       7.3345]\n",
      " [  1.       6.0062]\n",
      " [  1.       7.2259]\n",
      " [  1.       5.0269]\n",
      " [  1.       6.5479]\n",
      " [  1.       7.5386]\n",
      " [  1.       5.0365]\n",
      " [  1.      10.274 ]\n",
      " [  1.       5.1077]\n",
      " [  1.       5.7292]\n",
      " [  1.       5.1884]\n",
      " [  1.       6.3557]\n",
      " [  1.       9.7687]\n",
      " [  1.       6.5159]\n",
      " [  1.       8.5172]\n",
      " [  1.       9.1802]\n",
      " [  1.       6.002 ]\n",
      " [  1.       5.5204]\n",
      " [  1.       5.0594]\n",
      " [  1.       5.7077]\n",
      " [  1.       7.6366]\n",
      " [  1.       5.8707]\n",
      " [  1.       5.3054]\n",
      " [  1.       8.2934]\n",
      " [  1.      13.394 ]\n",
      " [  1.       5.4369]]\n"
     ]
    }
   ],
   "source": [
    "print X "
   ]
  },
  {
   "cell_type": "code",
   "execution_count": 1,
   "metadata": {
    "collapsed": true,
    "scrolled": true
   },
   "outputs": [],
   "source": [
    "def hypothesis(X,theta):\n",
    "    nro = X.shape[0]\n",
    "    nco = 1\n",
    "    vla = 0\n",
    "    h = np.zeros(shape=(nrows, 1))\n",
    "    for i in range(len(X)):\n",
    "        \n",
    "        for aa, bb in zip(X[i], theta):\n",
    "            vla = vla + (aa * bb)\n",
    "            \n",
    "        h[i] = h[i] + vla\n",
    "    \n",
    "    return h"
   ]
  },
  {
   "cell_type": "code",
   "execution_count": 2,
   "metadata": {
    "internals": {
     "frag_helper": "fragment_end",
     "frag_number": 21
    },
    "scrolled": true,
    "slideshow": {
     "slide_type": "-"
    }
   },
   "outputs": [],
   "source": [
    "def cost_function(theta,X,Y):\n",
    "    \n",
    "    nexamples = X.shape\n",
    "    answ = 0\n",
    "    for i in range(len(X)):\n",
    "        answ = answ + ((hypothesis(np.array([X[i]]), theta)[0][0] - Y[i]) ** 2)\n",
    "    return (answ / (2 * nexamples))[0]"
   ]
  },
  {
   "cell_type": "code",
   "execution_count": 3,
   "metadata": {
    "internals": {
     "frag_helper": "fragment_end",
     "frag_number": 21
    },
    "scrolled": true,
    "slideshow": {
     "slide_type": "-"
    }
   },
   "outputs": [],
   "source": [
    "def derivative_cost_function(theta,X,Y):\n",
    "    nexamples, nfeatures = X.shape\n",
    "    \n",
    "    partialderivatives = np.zeros(shape=(nfeatures, 1))\n",
    "    \n",
    "    for aa in range(nfeatures):\n",
    "        for bb in enumerate(X):\n",
    "            answ = (hypothesis(np.array([X[bb]]), theta)[0][0] - Y[bb]) * row[aa]\n",
    "        partialderivatives[aa] = answ / nexamples\n",
    "        \n",
    "    return partialderivatives\n"
   ]
  },
  {
   "cell_type": "code",
   "execution_count": 23,
   "metadata": {},
   "outputs": [
    {
     "name": "stdout",
     "output_type": "stream",
     "text": [
      "[[-23.5558]\n",
      " [-19.0096]\n",
      " [-15.5794]\n",
      " [-23.1487]]\n"
     ]
    }
   ],
   "source": [
    "#Lets test your hypothesis for with random parameters...\n",
    "thetas=np.array([2.0, -3.0]).reshape(2,1)\n",
    "print hypothesis(X[1:5,:],thetas) # Your code should give the following output\n",
    "#[[-23.5558]\n",
    "# [-19.0096]\n",
    "# [-15.5794]\n",
    "# [-23.1487]]"
   ]
  },
  {
   "cell_type": "code",
   "execution_count": 70,
   "metadata": {},
   "outputs": [
    {
     "name": "stdout",
     "output_type": "stream",
     "text": [
      "535.327234221\n"
     ]
    }
   ],
   "source": [
    "#Lets test your cost function...\n",
    "print cost_function(thetas,X,Y) # the correct answer should be 535.327234221"
   ]
  },
  {
   "cell_type": "markdown",
   "metadata": {
    "collapsed": true,
    "internals": {
     "frag_helper": "fragment_end",
     "frag_number": 18
    },
    "slideshow": {
     "slide_type": "fragment"
    }
   },
   "source": [
    "#Plot of Cost Function\n",
    "Lets plot the cost function for thetas in a thin range (this range is chosen randomly), i.e. [-5,5]"
   ]
  },
  {
   "cell_type": "code",
   "execution_count": 15,
   "metadata": {
    "internals": {
     "frag_helper": "fragment_end",
     "frag_number": 19
    },
    "scrolled": true,
    "slideshow": {
     "slide_type": "fragment"
    }
   },
   "outputs": [],
   "source": [
    "step=0.5\n",
    "t0=arange(-5,+5,step) # define the range of theta_0\n",
    "t1=arange(-5,+5,step)# define the range of theta_1\n",
    "ecf=np.zeros((len(t0),len(t1))) # 2D array to hold value of cost function \n",
    "\n",
    "for i in range(len(t0)):\n",
    "    for j in range(len(t1)):\n",
    "        #creat a vector of theta_s\n",
    "        th=np.array([t0[i],t1[j]]).reshape((2,1))\n",
    "        ecf[i,j]=cost_function(th,X,Y)"
   ]
  },
  {
   "cell_type": "code",
   "execution_count": 16,
   "metadata": {
    "internals": {
     "frag_helper": "fragment_end",
     "frag_number": 19
    },
    "scrolled": true,
    "slideshow": {
     "slide_type": "-"
    }
   },
   "outputs": [
    {
     "name": "stdout",
     "output_type": "stream",
     "text": [
      "[[ 1624.14334199  1376.82097     1149.96435096   943.57348487\n",
      "    757.64837172   592.18901152   447.19540427   322.66754996\n",
      "    218.60544861   135.00910019    71.87850473    29.21366221\n",
      "      7.01457264     5.28123602    24.01365235    63.21182162\n",
      "    122.87574384   203.00541901   303.60084712   424.66202818]\n",
      " [ 1598.4571097   1353.18002547  1128.36869419   924.02311586\n",
      "    740.14329047   576.72921803   433.78089854   311.29833199   209.2815184\n",
      "    127.73045775    66.64515004    26.02559529     5.87179348\n",
      "      6.18374462    26.9614487     68.20490573   129.91411571\n",
      "    212.08907864   314.72979452   437.83626334]\n",
      " [ 1573.02087741  1329.78908094  1107.02303742   904.72274685\n",
      "    722.88820922   561.51942454   420.61639281   300.17911403\n",
      "    200.20758819   120.7018153     61.66179536    23.08752836\n",
      "      4.97901431     7.33625321    30.15924506    73.44798985\n",
      "    137.20248759   221.42273828   326.10874191   451.26049849]\n",
      " [ 1547.83464512  1306.64813641  1085.92738065   885.67237784\n",
      "    705.88312797   546.55963105   407.70188708   289.30989606\n",
      "    191.38365798   113.92317285    56.92844067    20.39946143\n",
      "      4.33623514     8.7387618     33.60704141    78.94107396\n",
      "    144.74085946   231.00639791   337.73768931   464.93473365]\n",
      " [ 1522.89841283  1283.75719188  1065.08172388   866.87200883\n",
      "    689.12804672   531.84983756   395.03738135   278.69067809\n",
      "    182.80972777   107.3945304     52.44508598    17.96139451\n",
      "      3.94345598    10.3912704     37.30483776    84.68415808\n",
      "    152.52923134   240.84005755   349.6166367    478.85896881]\n",
      " [ 1498.21218053  1261.11624735  1044.48606711   848.32163982\n",
      "    672.62296547   517.39004407   382.62287562   268.32146012\n",
      "    174.48579756   101.11588795    48.21173129    15.77332758\n",
      "      3.80067681    12.29377899    41.25263412    90.67724219\n",
      "    160.56760321   250.92371718   361.7455841    493.03320396]\n",
      " [ 1473.77594824  1238.72530282  1024.14041034   830.02127081\n",
      "    656.36788422   503.18025058   370.45836989   258.20224215\n",
      "    166.41186736    95.08724551    44.22837661    13.83526065\n",
      "      3.90789764    14.44628758    45.45043047    96.92032631\n",
      "    168.85597509   261.25737682   374.12453149   507.45743912]\n",
      " [ 1449.58971595  1216.58435829  1004.04475357   811.9709018    640.36280297\n",
      "    489.22045709   358.54386416   248.33302418   158.58793715\n",
      "     89.30860306    40.49502192    12.14719372     4.26511848\n",
      "     16.84879618    49.89822683   103.41341042   177.39434696\n",
      "    271.84103645   386.75347889   522.13167427]\n",
      " [ 1425.65348366  1194.69341375   984.1990968    794.17053279\n",
      "    624.60772172   475.5106636    346.87935844   238.71380621\n",
      "    151.01400694    83.77996061    37.01166723    10.7091268      4.87233931\n",
      "     19.50130477    54.59602318   110.15649454   186.18271884\n",
      "    282.67469609   399.63242629   537.05590943]\n",
      " [ 1401.96725137  1173.05246922   964.60344003   776.62016377\n",
      "    609.10264047   462.05087012   335.46485271   229.34458824\n",
      "    143.69007673    78.50131816    33.77831254     9.52105987\n",
      "      5.72956014    22.40381337    59.54381953   117.14957865\n",
      "    195.22109071   293.75835572   412.76137368   552.23014459]\n",
      " [ 1378.53101908  1151.66152469   945.25778325   759.31979476\n",
      "    593.84755922   448.84107663   324.30034698   220.22537028\n",
      "    136.61614652    73.47267571    30.79495786     8.58299294\n",
      "      6.83678098    25.55632196    64.74161589   124.39266277\n",
      "    204.50946259   305.09201536   426.14032108   567.65437974]\n",
      " [ 1355.34478678  1130.52058016   926.16212648   742.26942575\n",
      "    578.84247797   435.88128314   313.38584125   211.35615231\n",
      "    129.79221631    68.69403327    28.06160317     7.89492602\n",
      "      8.19400181    28.95883055    70.18941224   131.88574688\n",
      "    214.04783446   316.675675     439.76926847   583.3286149 ]\n",
      " [ 1332.40855449  1109.62963563   907.31646971   725.46905674\n",
      "    564.08739672   423.17148965   302.72133552   202.73693434\n",
      "    123.21828611    64.16539082    25.57824848     7.45685909\n",
      "      9.80122264    32.61133915    75.8872086    139.62883099\n",
      "    223.83620634   328.50933463   453.64821587   599.25285006]\n",
      " [ 1309.7223222   1088.9886911    888.72081294   708.91868773\n",
      "    549.58231547   410.71169616   292.30682979   194.36771637   116.8943559\n",
      "     59.88674837    23.34489379     7.26879216    11.65844348\n",
      "     36.51384774    81.83500495   147.62191511   233.87457821\n",
      "    340.59299427   467.77716327   615.42708521]\n",
      " [ 1287.28608991  1068.59774657   870.37515617   692.61831872\n",
      "    535.32723422   398.50190267   282.14232406   186.2484984    110.82042569\n",
      "     55.85810592    21.36153911     7.33072523    13.76566431\n",
      "     40.66635633    88.03280131   155.86499922   244.16295009   352.9266539\n",
      "    482.15611066   631.85132037]\n",
      " [ 1265.09985762  1048.45680204   852.2794994    676.56794971\n",
      "    521.32215297   386.54210918   272.22781833   178.37928043\n",
      "    104.99649548    52.07946348    19.62818442     7.64265831\n",
      "     16.12288514    45.06886493    94.48059766   164.35808334\n",
      "    254.70132196   365.51031354   496.78505806   648.52555552]\n",
      " [ 1243.16362533  1028.5658575    834.43384263   660.7675807    507.56707172\n",
      "    374.83231569   262.5633126    170.76006246    99.42256527\n",
      "     48.55082103    18.14482973     8.20459138    18.73010598\n",
      "     49.72137352   101.17839401   173.10116745   265.48969384\n",
      "    378.34397317   511.66400545   665.44979068]\n",
      " [ 1221.47739303  1008.92491297   816.83818586   645.21721169\n",
      "    494.06199047   363.3725222    253.14880687   163.39084449\n",
      "     94.09863506    45.27217858    16.91147504     9.01652445\n",
      "     21.58732681    54.62388212   108.12619037   182.09425157\n",
      "    276.52806571   391.42763281   526.79295285   682.62402584]\n",
      " [ 1200.04116074   989.53396844   799.49252909   629.91684268\n",
      "    480.80690922   352.16272871   243.98430114   156.27162653\n",
      "     89.02470486    42.24353613    15.92812036    10.07845753\n",
      "     24.69454764    59.77639071   115.32398672   191.33733568\n",
      "    287.81643759   404.76129244   542.17190024   700.04826099]\n",
      " [ 1178.85492845   970.39302391   782.39687232   614.86647367\n",
      "    467.80182797   341.20293522   235.06979541   149.40240856\n",
      "     84.20077465    39.46489368    15.19476567    11.3903906     28.05176848\n",
      "     65.1788993    122.77178308   200.8304198    299.35480946\n",
      "    418.34495208   557.80084764   717.72249615]]\n"
     ]
    }
   ],
   "source": [
    "print ecf\n"
   ]
  },
  {
   "cell_type": "code",
   "execution_count": 17,
   "metadata": {
    "internals": {
     "frag_helper": "fragment_end",
     "frag_number": 21
    },
    "scrolled": true,
    "slideshow": {
     "slide_type": "fragment"
    }
   },
   "outputs": [
    {
     "name": "stdout",
     "output_type": "stream",
     "text": [
      "(20L, 20L) (20L, 20L) (20L, 20L)\n"
     ]
    }
   ],
   "source": [
    "# Generate theta_0 and theta_1 values for the cost function...\n",
    "tX, tY = np.meshgrid(t0, t1) # meshgrid generate the indeces for our 2D plotting, see its help for further understanding\n",
    "print tX.shape, tY.shape, ecf.shape"
   ]
  },
  {
   "cell_type": "code",
   "execution_count": 18,
   "metadata": {
    "internals": {
     "frag_helper": "fragment_end",
     "frag_number": 21,
     "slide_type": "subslide"
    },
    "scrolled": true,
    "slideshow": {
     "slide_type": "slide"
    }
   },
   "outputs": [
    {
     "data": {
      "text/plain": [
       "<matplotlib.text.Text at 0x7f915b12c110>"
      ]
     },
     "execution_count": 18,
     "metadata": {},
     "output_type": "execute_result"
    },
    {
     "data": {
      "image/png": "[encoded data removed]",
      "text/plain": [
       "<matplotlib.figure.Figure at 0x7f915b012490>"
      ]
     },
     "metadata": {},
     "output_type": "display_data"
    }
   ],
   "source": [
    "#Plot the cost function...\n",
    "#%matplotlib inline #%matplotlib qt # replace this line with \n",
    "from mpl_toolkits.mplot3d import Axes3D\n",
    "\n",
    "fig = plt.figure()\n",
    "ax = Axes3D(fig)\n",
    "ax.plot_surface(tX,tY,ecf.T)\n",
    "ax.set_xlabel(r'$\\theta_0$(Intercept)')\n",
    "ax.set_ylabel(r'$\\theta_1$(Slope)')\n",
    "ax.set_zlabel(r'$J(\\theta_0,\\theta_1)$(Cost Function)')\n",
    "\n",
    "#You must get something similar..."
   ]
  },
  {
   "cell_type": "markdown",
   "metadata": {},
   "source": [
    "##Lets test your derivatives\n",
    "\n",
    "Lets compute the computational derivatives and their difference with analytical derivatives.\n",
    "\n",
    "We will be using the definitions of partial derivatives to compute the computational derivatives of our cost function $J(\\theta_0,\\theta_1)$. i.e.\n",
    "For $\\partial \\theta_0$\n",
    "$$\\frac{\\partial J(\\theta_0,\\theta_1)}{\\partial \\theta_0}=\\frac{J(\\theta_0+\\epsilon,\\theta_1)-J(\\theta_0,\\theta_1)}{\\epsilon}$$\n",
    "\n",
    "\n",
    "For $\\partial \\theta_1$\n",
    "$$\\frac{\\partial J(\\theta_0,\\theta_1)}{\\partial \\theta_1}=\\frac{J(\\theta_0,\\theta_1+\\epsilon)-J(\\theta_0,\\theta_1)}{\\epsilon}$$\n",
    "\n",
    "Remember we are looking for change in both directions ($\\theta_0+\\epsilon,\\;\\mbox{and}\\; \\theta_1+\\epsilon$) from the current position $(\\theta_0,\\theta_1)$. In other words the values of $J(\\theta_0,\\theta_1)$ will remain constant for both computations.\n"
   ]
  },
  {
   "cell_type": "code",
   "execution_count": 18,
   "metadata": {
    "internals": {
     "frag_helper": "fragment_end",
     "frag_number": 21
    },
    "scrolled": true,
    "slideshow": {
     "slide_type": "-"
    }
   },
   "outputs": [
    {
     "name": "stdout",
     "output_type": "stream",
     "text": [
      "[[ 2.]\n",
      " [-3.]] 2\n"
     ]
    }
   ],
   "source": [
    "print thetas,len(thetas)"
   ]
  },
  {
   "cell_type": "code",
   "execution_count": 19,
   "metadata": {
    "internals": {
     "frag_helper": "fragment_end",
     "frag_number": 21
    },
    "scrolled": true,
    "slideshow": {
     "slide_type": "-"
    }
   },
   "outputs": [
    {
     "name": "stdout",
     "output_type": "stream",
     "text": [
      "[[ -28.2601625 ]\n",
      " [-294.11641606]]\n"
     ]
    }
   ],
   "source": [
    "eps=0.00001\n",
    "#analytical derivative\n",
    "ad=derivative_cost_function(thetas,X,Y)\n",
    "print ad # answer should be\n",
    "#[[ -28.2601625 ]\n",
    "# [-294.11641606]]"
   ]
  },
  {
   "cell_type": "code",
   "execution_count": 20,
   "metadata": {
    "internals": {
     "frag_helper": "fragment_end",
     "frag_number": 21
    },
    "scrolled": true,
    "slideshow": {
     "slide_type": "-"
    }
   },
   "outputs": [
    {
     "name": "stdout",
     "output_type": "stream",
     "text": [
      "diff in direction [[ 0.0001]\n",
      " [ 0.    ]]\n",
      "diff in direction [[ 0.    ]\n",
      " [ 0.0001]]\n",
      "Computational derivatvie = [-28.260112500220202, -294.11232290499356]\n",
      "Analytical derivative = (2L, 1L) [[ -28.2601625  -294.11641606]]\n",
      "Their difference= [[  4.99997798e-05]\n",
      " [  4.09315031e-03]]\n"
     ]
    }
   ],
   "source": [
    "\n",
    "eps=0.0001\n",
    "cd=[]\n",
    "\n",
    "for i in range(len(thetas)):\n",
    "    tt=thetas.copy()\n",
    "    tt[i]=tt[i]+eps # add an epsilon for the current theta\n",
    "    print 'diff in direction', tt-thetas    \n",
    "    cd.append((cost_function(tt,X,Y)-cost_function(thetas,X,Y))/eps)\n",
    "\n",
    "print 'Computational derivatvie =',cd\n",
    "print 'Analytical derivative =', ad.shape,ad.T\n",
    "print 'Their difference=',np.reshape(cd,ad.shape)-ad"
   ]
  },
  {
   "cell_type": "markdown",
   "metadata": {},
   "source": [
    "!!So for so good"
   ]
  },
  {
   "cell_type": "markdown",
   "metadata": {
    "collapsed": true
   },
   "source": [
    "#Gradient Descent\n",
    "\n",
    "Now lets write the code for the gradient descent."
   ]
  },
  {
   "cell_type": "code",
   "execution_count": 4,
   "metadata": {
    "internals": {
     "frag_helper": "fragment_end",
     "frag_number": 21
    },
    "scrolled": false,
    "slideshow": {
     "slide_type": "-"
    }
   },
   "outputs": [],
   "source": [
    "#Gradient Descent...\n",
    " # Uncomment it if you want to debug your code of gradient descent...\n",
    "def GradientDescent(X,Y,cost_function,derivative_cost_function,maxniter=20000):\n",
    "    # Remember you must plot the cost function after set of iterations to\n",
    "    # check whether your gradient descent code is working fine or not...\n",
    "    eps = 0.00001\n",
    "    alpha = 0.01\n",
    "    \n",
    "    nexamples = float(X.shape[0])\n",
    "    thetas = rand(X.shape[1],1)\n",
    "    \n",
    "    answ = 0\n",
    "    t_old = thetas.tolist()\n",
    "    t_new = thetas.tolist()\n",
    "    \n",
    "    flag = True\n",
    "    while answ < maxniter: \n",
    "        t_old = t_new\n",
    "        t_new = t_new - alpha * derivative_cost_function(np.array(t_old), X, Y)\n",
    "        answ = answ + 1\n",
    "    return t_new"
   ]
  },
  {
   "cell_type": "code",
   "execution_count": 29,
   "metadata": {
    "scrolled": true
   },
   "outputs": [
    {
     "name": "stdout",
     "output_type": "stream",
     "text": [
      "Value of Cost Function at Minimum Points [[-4.21144905]\n",
      " [ 1.21354175]], is 3.45958190343\n"
     ]
    },
    {
     "data": {
      "image/png": "[encoded data removed]",
      "text/plain": [
       "<matplotlib.figure.Figure at 0x7f9158e0ab10>"
      ]
     },
     "metadata": {},
     "output_type": "display_data"
    }
   ],
   "source": [
    "theta = GradientDescent(X,Y,cost_function,derivative_cost_function)\n",
    "cost_value = cost_function(theta, X, Y)\n",
    "\n",
    "print \"Value of Cost Function at Minimum Points \", theta, \", is \", cost_value\n",
    "\n"
   ]
  },
  {
   "cell_type": "code",
   "execution_count": 24,
   "metadata": {
    "scrolled": true
   },
   "outputs": [
    {
     "name": "stdout",
     "output_type": "stream",
     "text": [
      "[[-4.21144901]\n",
      " [ 1.21354175]]\n"
     ]
    }
   ],
   "source": [
    "print theta # You must get following values of theata after the successful completion of gradient descent..."
   ]
  },
  {
   "cell_type": "code",
   "execution_count": 25,
   "metadata": {
    "scrolled": true
   },
   "outputs": [
    {
     "data": {
      "text/plain": [
       "[<matplotlib.lines.Line2D at 0x7f9158e82210>]"
      ]
     },
     "execution_count": 25,
     "metadata": {},
     "output_type": "execute_result"
    },
    {
     "data": {
      "image/png": "[encoded data removed]",
      "text/plain": [
       "<matplotlib.figure.Figure at 0x7f9158e82290>"
      ]
     },
     "metadata": {},
     "output_type": "display_data"
    }
   ],
   "source": [
    "plt.scatter(X[:,1],Y)\n",
    "plt.xlabel('X')\n",
    "plt.ylabel('Y')\n",
    "#Now for each X plot the line\n",
    "plt.plot(X[:,1],hypothesis(X,theta))"
   ]
  }
 ],
 "metadata": {
  "celltoolbar": "Slideshow",
  "kernelspec": {
   "display_name": "Python 3",
   "language": "python",
   "name": "python3"
  },
  "language_info": {
   "codemirror_mode": {
    "name": "ipython",
    "version": 3
   },
   "file_extension": ".py",
   "mimetype": "text/x-python",
   "name": "python",
   "nbconvert_exporter": "python",
   "pygments_lexer": "ipython3",
   "version": "3.5.3"
  }
 },
 "nbformat": 4,
 "nbformat_minor": 1
}
