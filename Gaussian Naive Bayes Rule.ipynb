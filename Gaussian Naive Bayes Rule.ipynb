{
 "cells": [
  {
   "cell_type": "markdown",
   "metadata": {},
   "source": [
    "In this task we will be implementing the Naive version of Gaussian Bayes Classifier for continuous attributes.\n"
   ]
  },
  {
   "cell_type": "code",
   "execution_count": 1,
   "metadata": {
    "slideshow": {
     "slide_type": "slide"
    }
   },
   "outputs": [
    {
     "name": "stdout",
     "output_type": "stream",
     "text": [
      "Populating the interactive namespace from numpy and matplotlib\n"
     ]
    }
   ],
   "source": [
    "%pylab inline\n",
    "import scipy.stats\n",
    "from collections import defaultdict  # default dictionary "
   ]
  },
  {
   "cell_type": "code",
   "execution_count": 92,
   "metadata": {
    "slideshow": {
     "slide_type": "slide"
    }
   },
   "outputs": [],
   "source": [
    "class GaussianBayes:\n",
    "    classes=[]\n",
    "    def __init__(self):\n",
    "        pass\n",
    "    def train(self,splitClass):  \n",
    "        var=[]\n",
    "        mean=[]\n",
    "        for x in range(len(self.classes)):      \n",
    "            var.append(np.var((splitClass[x]),axis=0))         \n",
    "            mean.append(np.mean(splitClass[x],axis=0))\n",
    "        return var,mean\n",
    "        \n",
    "    def splitClasses(self,X,Y):\n",
    "        splitClass=[]\n",
    "        for l in range(len(self.classes)):\n",
    "            index=(Y==self.classes[l])\n",
    "            list=X[index]\n",
    "            splitClass.append(list)\n",
    "        return splitClass\n",
    "                \n",
    "    def priorProb(self,X,Y):\n",
    "        self.classes=np.unique(Y)\n",
    "        prior=[]\n",
    "        classesFrequency=[]\n",
    "        length=len(self.classes)\n",
    "        for ind in range(length):\n",
    "            classesFrequency.append(list(Y).count(self.classes[ind]))\n",
    "            prior.append(float(classesFrequency[ind])/len(Y))\n",
    "        return prior\n",
    "        \n",
    "    def likelyHood(self,x,varr,meann):\n",
    "        num1=np.square(x-meann)\n",
    "        den1=2*varr\n",
    "        power1=num1/den1\n",
    "        power2=-power1\n",
    "        e=math.pow(math.e,power2)\n",
    "        den2=math.sqrt(2*math.pi*(varr))\n",
    "        p1=1/den2\n",
    "        Ans=p1*e\n",
    "        return Ans\n",
    "    \n",
    "    def test(self, X,prior,var,mean):\n",
    "        nexamples, nfeatures=X.shape\n",
    "        pclasses=[0]*nexamples\n",
    "        # your code go here...\n",
    "        for index in range(nexamples):\n",
    "            likelyhood=[]\n",
    "            classesProb=[]\n",
    "            for count in range(len(self.classes)):\n",
    "                likehood=1\n",
    "                for inner in range(nfeatures):\n",
    "                    likehood=likehood*self.likelyHood(X[index][inner],var[count][inner],mean[count][inner])\n",
    "                likelyhood.append(likehood)\n",
    "            for i in range(len(prior)):\n",
    "                classesProb.append(likelyhood[i]*prior[i])\n",
    "            maxi=classesProb.index(max(classesProb)) \n",
    "            pclasses[index]=self.classes[maxi]\n",
    "        return np.array(pclasses)\n",
    "        "
   ]
  },
  {
   "cell_type": "code",
   "execution_count": 2,
   "metadata": {
    "slideshow": {
     "slide_type": "-"
    }
   },
   "outputs": [],
   "source": [
    "import pandas as pd\n",
    "import tools as t # set of tools for plotting, data splitting, etc.."
   ]
  },
  {
   "cell_type": "code",
   "execution_count": 4,
   "metadata": {
    "slideshow": {
     "slide_type": "slide"
    }
   },
   "outputs": [
    {
     "name": "stdout",
     "output_type": "stream",
     "text": [
      "       SepalLength  SepalWidth  PetalLength  PetalWidth\n",
      "count   149.000000  149.000000   149.000000  149.000000\n",
      "mean      5.848322    3.051007     3.774497    1.205369\n",
      "std       0.828594    0.433499     1.759651    0.761292\n",
      "min       4.300000    2.000000     1.000000    0.100000\n",
      "25%       5.100000    2.800000     1.600000    0.300000\n",
      "50%       5.800000    3.000000     4.400000    1.300000\n",
      "75%       6.400000    3.300000     5.100000    1.800000\n",
      "max       7.900000    4.400000     6.900000    2.500000\n"
     ]
    }
   ],
   "source": [
    "#load the data set\n",
    "data=pd.read_csv('iris.data')\n",
    "data.columns=['SepalLength','SepalWidth','PetalLength','PetalWidth','Class']\n",
    "print data.describe()"
   ]
  },
  {
   "cell_type": "code",
   "execution_count": 5,
   "metadata": {
    "slideshow": {
     "slide_type": "slide"
    }
   },
   "outputs": [
    {
     "name": "stdout",
     "output_type": "stream",
     "text": [
      " Data Set Dimensions= (149L, 4L)  True Class labels dimensions (149L,)\n"
     ]
    }
   ],
   "source": [
    "# Get your data in matrix\n",
    "X=np.asarray(data[['SepalLength','SepalWidth','PetalLength','PetalWidth']].dropna())\n",
    "Y=np.asarray(data['Class'].dropna())\n",
    "print \" Data Set Dimensions=\", X.shape, \" True Class labels dimensions\", Y.shape   \n"
   ]
  },
  {
   "cell_type": "markdown",
   "metadata": {
    "slideshow": {
     "slide_type": "slide"
    }
   },
   "source": [
    "Training Time\n",
    "========\n",
    "Let's train a Gaussian Bayes, first train using any only two attributes.\n",
    "- What Two Attributes to use ? Any Guess, we will be using petal length and width..."
   ]
  },
  {
   "cell_type": "code",
   "execution_count": 6,
   "metadata": {
    "slideshow": {
     "slide_type": "-"
    }
   },
   "outputs": [
    {
     "name": "stdout",
     "output_type": "stream",
     "text": [
      " Training Data Set Dimensions= (104L, 4L) Training True Class labels dimensions (104L,)\n",
      " Test Data Set Dimensions= (45L, 4L) Test True Class labels dimensions (104L,)\n"
     ]
    }
   ],
   "source": [
    "Xtrain,Ytrain,Xtest,Ytest=t.split_data(X,Y)\n",
    "\n",
    "print \" Training Data Set Dimensions=\", Xtrain.shape, \"Training True Class labels dimensions\", Ytrain.shape   \n",
    "print \" Test Data Set Dimensions=\", Xtest.shape, \"Test True Class labels dimensions\", Ytrain.shape   \n"
   ]
  },
  {
   "cell_type": "code",
   "execution_count": 117,
   "metadata": {
    "slideshow": {
     "slide_type": "slide"
    }
   },
   "outputs": [],
   "source": [
    "# Lets train a Gaussian Naive Bayes Classifier on Petal Length and Width\n",
    "gb=GaussianBayes()\n",
    "prior=gb.priorProb(X,Y)\n",
    "split=gb.splitClasses(Xtrain[:,2:],Ytrain)\n",
    "var,mean=gb.train(split)"
   ]
  },
  {
   "cell_type": "code",
   "execution_count": 118,
   "metadata": {
    "slideshow": {
     "slide_type": "slide"
    }
   },
   "outputs": [],
   "source": [
    "#Lets test it on the set of unseen examples...\n",
    "pclasses=gb.test(Xtest[:,2:],prior,var,mean)"
   ]
  },
  {
   "cell_type": "code",
   "execution_count": 119,
   "metadata": {
    "slideshow": {
     "slide_type": "slide"
    }
   },
   "outputs": [
    {
     "name": "stdout",
     "output_type": "stream",
     "text": [
      "43\n",
      "Accuracy =  0.955555555556\n"
     ]
    }
   ],
   "source": [
    "#Lets see how good we are doing, by finding the accuracy on the test set..\n",
    "print np.sum(pclasses==Ytest)\n",
    "print \"Accuracy = \", np.sum(pclasses==Ytest)/float(Ytest.shape[0])"
   ]
  },
  {
   "cell_type": "code",
   "execution_count": 31,
   "metadata": {
    "slideshow": {
     "slide_type": "slide"
    }
   },
   "outputs": [
    {
     "name": "stdout",
     "output_type": "stream",
     "text": [
      " Plotting the Decision Surface of Training Set... \n",
      "[0 0 0 ..., 2 2 2] <type 'numpy.int64'> False\n"
     ]
    },
    {
     "data": {
      "image/png": "[encoded data removed]",
      "text/plain": [
       "<matplotlib.figure.Figure at 0x7f981bcef390>"
      ]
     },
     "metadata": {},
     "output_type": "display_data"
    }
   ],
   "source": [
    "#Lets plot the decision surface\n",
    "print \" Plotting the Decision Surface of Training Set... \"\n",
    "t.plot_decision_regions(Xtrain[:,2:],Ytrain,clf=gb, res=0.02, cycle_marker=True, legend=1)"
   ]
  },
  {
   "cell_type": "code",
   "execution_count": 32,
   "metadata": {
    "slideshow": {
     "slide_type": "slide"
    }
   },
   "outputs": [
    {
     "name": "stdout",
     "output_type": "stream",
     "text": [
      " Plotting the Decision Surface of Test Set... \n",
      "[0 0 0 ..., 2 2 2] <type 'numpy.int64'> False\n"
     ]
    },
    {
     "data": {
      "image/png": "[encoded data removed]",
      "text/plain": [
       "<matplotlib.figure.Figure at 0x7f981b1e1950>"
      ]
     },
     "metadata": {},
     "output_type": "display_data"
    }
   ],
   "source": [
    "print \" Plotting the Decision Surface of Test Set... \"\n",
    "t.plot_decision_regions(Xtest[:,2:],Ytest,clf=gb, res=0.02, cycle_marker=True, legend=1)"
   ]
  },
  {
   "cell_type": "code",
   "execution_count": 114,
   "metadata": {
    "slideshow": {
     "slide_type": "slide"
    }
   },
   "outputs": [],
   "source": [
    "# Lets go and use all the four attributes...\n",
    "fgb=GaussianBayes()\n",
    "prior=fgb.priorProb(X,Y)\n",
    "split=fgb.splitClasses(Xtrain,Ytrain)\n",
    "var,mean=fgb.train(split)"
   ]
  },
  {
   "cell_type": "code",
   "execution_count": 115,
   "metadata": {
    "slideshow": {
     "slide_type": "slide"
    }
   },
   "outputs": [],
   "source": [
    "pclasses=fgb.test(Xtest,prior,var,mean)"
   ]
  },
  {
   "cell_type": "code",
   "execution_count": 116,
   "metadata": {
    "slideshow": {
     "slide_type": "slide"
    }
   },
   "outputs": [
    {
     "name": "stdout",
     "output_type": "stream",
     "text": [
      "43\n",
      "Accuracy =  0.955555555556\n"
     ]
    }
   ],
   "source": [
    "# Using all four attributes, accuracy is \n",
    "print np.sum(pclasses==Ytest)\n",
    "print \"Accuracy = \", np.sum(pclasses==Ytest)/float(Ytest.shape[0])"
   ]
  },
  {
   "cell_type": "markdown",
   "metadata": {},
   "source": [
    "#Cross-Validation\n",
    "\n",
    "Until now we have been splitting the dataset into a training and test set rather randomly and were reporting a rather artifical performance. Now we are going to test our system exhaustively by making use of k-fold [cross validation](http://en.wikipedia.org/wiki/Cross-validation_%28statistics%29). "
   ]
  },
  {
   "cell_type": "code",
   "execution_count": 113,
   "metadata": {},
   "outputs": [
    {
     "name": "stdout",
     "output_type": "stream",
     "text": [
      "Generating CV data for 3 classes\n",
      "[Info] Fold 1 Accuracy = 1.0\n",
      "[Info] Fold 2 Accuracy = 0.916666666667\n",
      "[Info] Fold 3 Accuracy = 0.944444444444\n",
      "[Info] Fold 4 Accuracy = 0.972222222222\n",
      "[1.0, 0.91666666666666663, 0.94444444444444442, 0.97222222222222221] \n",
      " Mean Accuracy = 0.958333333333\n"
     ]
    }
   ],
   "source": [
    "nfolds=4 # lets use four folds..\n",
    "folds=t.generate_folds(X,Y,nfolds)\n",
    "features=[2, 3] # features to use for our system\n",
    "#now lets train and test on these folds...\n",
    "totacc=[]\n",
    "for k in range(nfolds):\n",
    "    gb=GaussianBayes()\n",
    "    prior=gb.priorProb(X,Y)\n",
    "    split=gb.splitClasses(folds[k][0][:,features],folds[k][1])\n",
    "    var,mean=gb.train(split)\n",
    "    pclasses=gb.test(folds[k][2][:,features],prior,var,mean)\n",
    "    acc=np.sum(pclasses==folds[k][3])/float(folds[k][3].shape[0])\n",
    "    print \"[Info] Fold {} Accuracy = {}\".format(k+1, acc)\n",
    "    totacc.append(acc)\n",
    "\n",
    "print totacc, '\\n Mean Accuracy =', np.mean(totacc)"
   ]
  }
 ],
 "metadata": {
  "celltoolbar": "Slideshow",
  "kernelspec": {
   "display_name": "Python 3",
   "language": "python",
   "name": "python3"
  },
  "language_info": {
   "codemirror_mode": {
    "name": "ipython",
    "version": 3
   },
   "file_extension": ".py",
   "mimetype": "text/x-python",
   "name": "python",
   "nbconvert_exporter": "python",
   "pygments_lexer": "ipython3",
   "version": "3.5.3"
  }
 },
 "nbformat": 4,
 "nbformat_minor": 1
}
