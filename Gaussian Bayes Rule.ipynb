{
 "cells": [
  {
   "cell_type": "markdown",
   "metadata": {},
   "source": [
    "\n",
    "Now in this Task we will be implementing the Gaussian Bayes Classifier for continuous attributes\n"
   ]
  },
  {
   "cell_type": "code",
   "execution_count": 6,
   "metadata": {
    "slideshow": {
     "slide_type": "slide"
    }
   },
   "outputs": [
    {
     "name": "stdout",
     "output_type": "stream",
     "text": [
      "Populating the interactive namespace from numpy and matplotlib\n"
     ]
    }
   ],
   "source": [
    "%pylab inline\n",
    "import scipy.stats as ss\n",
    "import numpy as np\n",
    "import math\n",
    "from collections import defaultdict  # default dictionary "
   ]
  },
  {
   "cell_type": "code",
   "execution_count": 20,
   "metadata": {
    "collapsed": true,
    "slideshow": {
     "slide_type": "slide"
    }
   },
   "outputs": [],
   "source": [
    "class GaussianBayes:\n",
    "    \n",
    "    classes=[]\n",
    "    def __init__(self):   #Constructor\n",
    "        pass\n",
    "    def train(self,splitClass):  \n",
    "        cov=[]\n",
    "        mean=[]\n",
    "        for x in range(len(self.classes)):      \n",
    "            cov.append(np.cov((splitClass[x]).T))         \n",
    "            mean.append(np.mean(splitClass[x],axis=0))\n",
    "        return cov,mean\n",
    "        \n",
    "    def splitClasses(self,X,Y):\n",
    "        splitClass=[]\n",
    "        for l in range(len(self.classes)):\n",
    "            index=(Y==self.classes[l])\n",
    "            list=X[index]\n",
    "            splitClass.append(list)\n",
    "        return splitClass\n",
    "                \n",
    "    def priorProb(self,X,Y):\n",
    "        self.classes=np.unique(Y)\n",
    "        prior=[]\n",
    "        classesFrequency=[]\n",
    "        length=len(self.classes)\n",
    "        for ind in range(length):\n",
    "            classesFrequency.append(list(Y).count(self.classes[ind]))\n",
    "            prior.append(float(classesFrequency[ind])/len(Y))\n",
    "        return prior\n",
    "        \n",
    "    def likelyHood(self,x,k,covv,meann):\n",
    "        invcov=np.linalg.inv(covv)\n",
    "        detcov=np.linalg.det(covv)\n",
    "        pNum=np.dot((x-meann),invcov)\n",
    "        pNum1=np.dot(pNum,(x-meann).T)\n",
    "        ePow=pNum1/2\n",
    "        ePow1=-ePow\n",
    "        num1=math.pow(math.e,ePow1)\n",
    "        den1=math.pow(math.sqrt(2*math.pi),k)\n",
    "        den2=math.sqrt(detcov)\n",
    "        den=den1*den2\n",
    "        num2=1/den\n",
    "        Ans=num2*num1\n",
    "        return Ans\n",
    "    \n",
    "    def test(self, X,prior,cov,mean):\n",
    "\n",
    "        nexamples, nfeatures=X.shape\n",
    "        pclasses=[0]*nexamples\n",
    "        \n",
    "        # your code go here...\n",
    "        for index in range(nexamples):\n",
    "            likelyhood=[]\n",
    "            classesProb=[]\n",
    "            for count in range(len(self.classes)):\n",
    "                likelyhood.append(self.likelyHood(X[index],nfeatures,cov[count],mean[count]))\n",
    "            for i in range(len(prior)):\n",
    "                classesProb.append(likelyhood[i]*prior[i])\n",
    "            maxi=classesProb.index(max(classesProb)) \n",
    "            pclasses[index]=self.classes[maxi]\n",
    "        return np.array(pclasses)\n",
    "    \n",
    "\n",
    "        "
   ]
  },
  {
   "cell_type": "code",
   "execution_count": 2,
   "metadata": {
    "collapsed": true,
    "slideshow": {
     "slide_type": "-"
    }
   },
   "outputs": [],
   "source": [
    "import pandas as pd\n",
    "import tools as t # set of tools for plotting, data splitting, etc.."
   ]
  },
  {
   "cell_type": "code",
   "execution_count": 4,
   "metadata": {
    "slideshow": {
     "slide_type": "slide"
    }
   },
   "outputs": [
    {
     "name": "stdout",
     "output_type": "stream",
     "text": [
      "       SepalLength  SepalWidth  PetalLength  PetalWidth\n",
      "count   149.000000  149.000000   149.000000  149.000000\n",
      "mean      5.848322    3.051007     3.774497    1.205369\n",
      "std       0.828594    0.433499     1.759651    0.761292\n",
      "min       4.300000    2.000000     1.000000    0.100000\n",
      "25%       5.100000    2.800000     1.600000    0.300000\n",
      "50%       5.800000    3.000000     4.400000    1.300000\n",
      "75%       6.400000    3.300000     5.100000    1.800000\n",
      "max       7.900000    4.400000     6.900000    2.500000\n"
     ]
    }
   ],
   "source": [
    "#load the data set\n",
    "data=pd.read_csv('iris.data')\n",
    "data.columns=['SepalLength','SepalWidth','PetalLength','PetalWidth','Class']\n",
    "print data.describe()"
   ]
  },
  {
   "cell_type": "code",
   "execution_count": 7,
   "metadata": {
    "slideshow": {
     "slide_type": "slide"
    }
   },
   "outputs": [
    {
     "name": "stdout",
     "output_type": "stream",
     "text": [
      " Data Set Dimensions= (149L, 4L)  True Class labels dimensions (149L,)\n"
     ]
    }
   ],
   "source": [
    "# Get your data in matrix\n",
    "X=np.asarray(data[['SepalLength','SepalWidth','PetalLength','PetalWidth']].dropna())\n",
    "Y=np.asarray(data['Class'].dropna())\n",
    "print \" Data Set Dimensions=\", X.shape, \" True Class labels dimensions\", Y.shape   \n"
   ]
  },
  {
   "cell_type": "code",
   "execution_count": 487,
   "metadata": {},
   "outputs": [
    {
     "data": {
      "image/png": "[encoded data removed]",
      "text/plain": [
       "<matplotlib.figure.Figure at 0x15bdfda0>"
      ]
     },
     "metadata": {},
     "output_type": "display_data"
    }
   ],
   "source": [
    "#Lets plot the Complete data...\n",
    "# Remember seeing is believing\n",
    "t.plotCov(X[:,2:],Y)"
   ]
  },
  {
   "cell_type": "markdown",
   "metadata": {},
   "source": [
    "Our goal will be to measure the parameters of these Multinomial Gaussians during training..."
   ]
  },
  {
   "cell_type": "markdown",
   "metadata": {
    "slideshow": {
     "slide_type": "slide"
    }
   },
   "source": [
    "Training Time\n",
    "========\n",
    "Let's train a Gaussian Bayes, first train using any only two attributes.\n",
    "- What Two Attributes to use ? Any Guess, we will be using petal length and width..."
   ]
  },
  {
   "cell_type": "code",
   "execution_count": 8,
   "metadata": {
    "slideshow": {
     "slide_type": "-"
    }
   },
   "outputs": [
    {
     "name": "stdout",
     "output_type": "stream",
     "text": [
      " Training Data Set Dimensions= (104L, 4L) Training True Class labels dimensions (104L,)\n",
      " Test Data Set Dimensions= (45L, 4L) Test True Class labels dimensions (104L,)\n"
     ]
    }
   ],
   "source": [
    "Xtrain,Ytrain,Xtest,Ytest=t.split_data(X,Y)\n",
    "print \" Training Data Set Dimensions=\", Xtrain.shape, \"Training True Class labels dimensions\", Ytrain.shape   \n",
    "print \" Test Data Set Dimensions=\", Xtest.shape, \"Test True Class labels dimensions\", Ytrain.shape   "
   ]
  },
  {
   "cell_type": "code",
   "execution_count": 47,
   "metadata": {
    "slideshow": {
     "slide_type": "slide"
    }
   },
   "outputs": [
    {
     "data": {
      "image/png": "[encoded data removed]",
      "text/plain": [
       "<matplotlib.figure.Figure at 0x13a8bf28>"
      ]
     },
     "metadata": {},
     "output_type": "display_data"
    }
   ],
   "source": [
    "#Lets plot only the training data...\n",
    "t.plotCov(Xtrain[:,2:],Ytrain)"
   ]
  },
  {
   "cell_type": "code",
   "execution_count": 15,
   "metadata": {
    "slideshow": {
     "slide_type": "-"
    }
   },
   "outputs": [
    {
     "data": {
      "image/png": "[encoded data removed]",
      "text/plain": [
       "<matplotlib.figure.Figure at 0x15121518>"
      ]
     },
     "metadata": {},
     "output_type": "display_data"
    }
   ],
   "source": [
    "#Lets plot only the test data, see both the training and test sets are disjoint...\n",
    "t.plotCov(Xtest[:,2:],Ytest)"
   ]
  },
  {
   "cell_type": "code",
   "execution_count": 21,
   "metadata": {
    "collapsed": true,
    "slideshow": {
     "slide_type": "slide"
    }
   },
   "outputs": [],
   "source": [
    "# Lets train a Gaussian Bayes Classifier on Petal Length and Width\n",
    "gb=GaussianBayes()\n",
    "prior=gb.priorProb(X,Y)\n",
    "split=gb.splitClasses(Xtrain[:,2:],Ytrain)\n",
    "cov,mean=gb.train(split)"
   ]
  },
  {
   "cell_type": "code",
   "execution_count": 49,
   "metadata": {
    "collapsed": true,
    "slideshow": {
     "slide_type": "slide"
    }
   },
   "outputs": [],
   "source": [
    "#Lets test it on the set of unseen examples...\n",
    "pclasses=gb.test(Xtest[:,2:],prior,cov,mean)"
   ]
  },
  {
   "cell_type": "markdown",
   "metadata": {
    "slideshow": {
     "slide_type": "slide"
    }
   },
   "source": [
    "Lets see how good we are doing...\n",
    "=================="
   ]
  },
  {
   "cell_type": "code",
   "execution_count": 50,
   "metadata": {
    "slideshow": {
     "slide_type": "slide"
    }
   },
   "outputs": [
    {
     "name": "stdout",
     "output_type": "stream",
     "text": [
      "43\n",
      "Accuracy =  0.955555555556\n"
     ]
    }
   ],
   "source": [
    "print np.sum(pclasses==Ytest)\n",
    "print \"Accuracy = \", np.sum(pclasses==Ytest)/float(Ytest.shape[0])"
   ]
  },
  {
   "cell_type": "code",
   "execution_count": 12,
   "metadata": {
    "slideshow": {
     "slide_type": "slide"
    }
   },
   "outputs": [
    {
     "name": "stdout",
     "output_type": "stream",
     "text": [
      " Plotting the Decision Surface of Training Set... \n"
     ]
    },
    {
     "ename": "ValueError",
     "evalue": "'I' is not in list",
     "output_type": "error",
     "traceback": [
      "\u001b[1;31m---------------------------------------------------------------------------\u001b[0m",
      "\u001b[1;31mValueError\u001b[0m                                Traceback (most recent call last)",
      "\u001b[1;32m<ipython-input-12-a205503f87ad>\u001b[0m in \u001b[0;36m<module>\u001b[1;34m()\u001b[0m\n\u001b[0;32m      1\u001b[0m \u001b[1;31m#Lets plot the decision surface\u001b[0m\u001b[1;33m\u001b[0m\u001b[1;33m\u001b[0m\u001b[0m\n\u001b[0;32m      2\u001b[0m \u001b[1;32mprint\u001b[0m \u001b[1;34m\" Plotting the Decision Surface of Training Set... \"\u001b[0m\u001b[1;33m\u001b[0m\u001b[0m\n\u001b[1;32m----> 3\u001b[1;33m \u001b[0mt\u001b[0m\u001b[1;33m.\u001b[0m\u001b[0mplot_decision_regions\u001b[0m\u001b[1;33m(\u001b[0m\u001b[0mXtrain\u001b[0m\u001b[1;33m[\u001b[0m\u001b[1;33m:\u001b[0m\u001b[1;33m,\u001b[0m\u001b[1;36m2\u001b[0m\u001b[1;33m:\u001b[0m\u001b[1;33m]\u001b[0m\u001b[1;33m,\u001b[0m\u001b[0mYtrain\u001b[0m\u001b[1;33m,\u001b[0m\u001b[0mclf\u001b[0m\u001b[1;33m=\u001b[0m\u001b[0mgb\u001b[0m\u001b[1;33m,\u001b[0m \u001b[0mres\u001b[0m\u001b[1;33m=\u001b[0m\u001b[1;36m0.02\u001b[0m\u001b[1;33m,\u001b[0m \u001b[0mcycle_marker\u001b[0m\u001b[1;33m=\u001b[0m\u001b[0mTrue\u001b[0m\u001b[1;33m,\u001b[0m \u001b[0mlegend\u001b[0m\u001b[1;33m=\u001b[0m\u001b[1;36m1\u001b[0m\u001b[1;33m)\u001b[0m\u001b[1;33m\u001b[0m\u001b[0m\n\u001b[0m",
      "\u001b[1;32mC:\\Users\\Rashid Saleem\\Documents\\IPython Notebooks\\tools.pyc\u001b[0m in \u001b[0;36mplot_decision_regions\u001b[1;34m(X, y, clf, res, cycle_marker, legend)\u001b[0m\n\u001b[0;32m    665\u001b[0m         \u001b[1;31m# print \" Hello\"\u001b[0m\u001b[1;33m\u001b[0m\u001b[1;33m\u001b[0m\u001b[0m\n\u001b[0;32m    666\u001b[0m         \u001b[0mnclasses\u001b[0m\u001b[1;33m=\u001b[0m\u001b[0mlist\u001b[0m\u001b[1;33m(\u001b[0m\u001b[0mnp\u001b[0m\u001b[1;33m.\u001b[0m\u001b[0munique\u001b[0m\u001b[1;33m(\u001b[0m\u001b[0mZ\u001b[0m\u001b[1;33m)\u001b[0m\u001b[1;33m)\u001b[0m\u001b[1;33m;\u001b[0m\u001b[1;33m\u001b[0m\u001b[0m\n\u001b[1;32m--> 667\u001b[1;33m     \u001b[0mZ\u001b[0m\u001b[1;33m=\u001b[0m\u001b[0mnp\u001b[0m\u001b[1;33m.\u001b[0m\u001b[0marray\u001b[0m\u001b[1;33m(\u001b[0m\u001b[1;33m[\u001b[0m\u001b[0mnclasses\u001b[0m\u001b[1;33m.\u001b[0m\u001b[0mindex\u001b[0m\u001b[1;33m(\u001b[0m\u001b[0mlabel\u001b[0m\u001b[1;33m)\u001b[0m \u001b[1;32mfor\u001b[0m \u001b[0mlabel\u001b[0m \u001b[1;32min\u001b[0m \u001b[0mZ\u001b[0m\u001b[1;33m]\u001b[0m\u001b[1;33m)\u001b[0m\u001b[1;33m\u001b[0m\u001b[0m\n\u001b[0m\u001b[0;32m    668\u001b[0m \u001b[1;33m\u001b[0m\u001b[0m\n\u001b[0;32m    669\u001b[0m \u001b[1;33m\u001b[0m\u001b[0m\n",
      "\u001b[1;31mValueError\u001b[0m: 'I' is not in list"
     ]
    }
   ],
   "source": [
    "print \" Plotting the Decision Surface of Training Set... \"\n",
    "t.plot_decision_regions(Xtrain[:,2:],Ytrain,clf=gb, res=0.02, cycle_marker=True, legend=1)"
   ]
  },
  {
   "cell_type": "code",
   "execution_count": null,
   "metadata": {
    "collapsed": true,
    "slideshow": {
     "slide_type": "slide"
    }
   },
   "outputs": [],
   "source": [
    "print \" Plotting the Decision Surface of Test Set... \"\n",
    "t.plot_decision_regions(Xtest[:,2:],Ytest,clf=gb, res=0.02, cycle_marker=True, legend=1)"
   ]
  },
  {
   "cell_type": "code",
   "execution_count": 51,
   "metadata": {
    "collapsed": true,
    "slideshow": {
     "slide_type": "slide"
    }
   },
   "outputs": [],
   "source": [
    "# Lets go and use all the four attributes...\n",
    "fgb=GaussianBayes()\n",
    "prior=fgb.priorProb(X,Y)\n",
    "split=fgb.splitClasses(Xtrain,Ytrain)\n",
    "cov,mean=fgb.train(split)"
   ]
  },
  {
   "cell_type": "code",
   "execution_count": 52,
   "metadata": {
    "collapsed": true,
    "slideshow": {
     "slide_type": "slide"
    }
   },
   "outputs": [],
   "source": [
    "\n",
    "pclasses=fgb.test(Xtest,prior,cov,mean)"
   ]
  },
  {
   "cell_type": "code",
   "execution_count": 53,
   "metadata": {
    "slideshow": {
     "slide_type": "slide"
    }
   },
   "outputs": [
    {
     "name": "stdout",
     "output_type": "stream",
     "text": [
      "43\n",
      "Accuracy =  0.955555555556\n"
     ]
    }
   ],
   "source": [
    "# Using all four attributes, accuracy is \n",
    "print np.sum(pclasses==Ytest)\n",
    "print \"Accuracy = \", np.sum(pclasses==Ytest)/float(Ytest.shape[0])"
   ]
  },
  {
   "cell_type": "markdown",
   "metadata": {
    "slideshow": {
     "slide_type": "slide"
    }
   },
   "source": [
    "# Now Let's change the features:\n",
    "\n",
    "Simply use only the sepal-length and width as features and repeat the complete training and test cycle and report your performance with the decision regions plot... \n"
   ]
  },
  {
   "cell_type": "code",
   "execution_count": 54,
   "metadata": {
    "collapsed": true
   },
   "outputs": [],
   "source": [
    "gb=GaussianBayes()\n",
    "prior=gb.priorProb(X,Y)\n",
    "split=gb.splitClasses(Xtrain[:,:2],Ytrain)\n",
    "cov,mean=gb.train(split)"
   ]
  },
  {
   "cell_type": "code",
   "execution_count": 55,
   "metadata": {
    "collapsed": true
   },
   "outputs": [],
   "source": [
    "pclasses=gb.test(Xtest[:,:2],prior,cov,mean)"
   ]
  },
  {
   "cell_type": "code",
   "execution_count": 56,
   "metadata": {},
   "outputs": [
    {
     "name": "stdout",
     "output_type": "stream",
     "text": [
      "36\n",
      "Accuracy =  0.8\n"
     ]
    }
   ],
   "source": [
    "print np.sum(pclasses==Ytest)\n",
    "print \"Accuracy = \", np.sum(pclasses==Ytest)/float(Ytest.shape[0])"
   ]
  },
  {
   "cell_type": "markdown",
   "metadata": {},
   "source": [
    "#Cross-Validation\n",
    "\n",
    "Until now we have been splitting the dataset into a training and test set rather randomly and were reporting a rather artifical performance. Now we are going to test our system exhaustively by making use of k-fold [cross validation](http://en.wikipedia.org/wiki/Cross-validation_%28statistics%29). "
   ]
  },
  {
   "cell_type": "code",
   "execution_count": 57,
   "metadata": {},
   "outputs": [
    {
     "name": "stdout",
     "output_type": "stream",
     "text": [
      "Generating CV data for 3 classes\n",
      "[Info] Fold 1 Accuracy = 0.972222222222\n",
      "[Info] Fold 2 Accuracy = 1.0\n",
      "[Info] Fold 3 Accuracy = 0.916666666667\n",
      "[Info] Fold 4 Accuracy = 1.0\n",
      "[0.97222222222222221, 1.0, 0.91666666666666663, 1.0] \n",
      " Mean Accuracy = 0.972222222222\n"
     ]
    }
   ],
   "source": [
    "# Now lets cross validate, and test the result...\n",
    "# We will be training four different models on four different partitions of data set and \n",
    "# then will be reporting the mean accuracy of the four classifiers.\n",
    "\n",
    "nfolds=4 # lets use four folds..\n",
    "folds=t.generate_folds(X,Y,nfolds)\n",
    "features=[2, 3] # features to use for our system\n",
    "#now lets train and test on these folds...\n",
    "totacc=[]\n",
    "for ka in range(nfolds):\n",
    "    gb=GaussianBayes()\n",
    "    gb.priorProb(X,Y)\n",
    "    split=gb.splitClasses(folds[ka][0][:,features],folds[ka][1])\n",
    "    cov,mean=gb.train(split)\n",
    "    pclasses=gb.test(folds[ka][2][:,features],prior,cov,mean)\n",
    "    acc=np.sum(pclasses==folds[ka][3])/float(folds[ka][3].shape[0])\n",
    "    print \"[Info] Fold {} Accuracy = {}\".format(ka+1, acc)\n",
    "    totacc.append(acc)\n",
    "\n",
    "print totacc, '\\n Mean Accuracy =', np.mean(totacc)"
   ]
  },
  {
   "cell_type": "code",
   "execution_count": null,
   "metadata": {
    "collapsed": true
   },
   "outputs": [],
   "source": []
  }
 ],
 "metadata": {
  "celltoolbar": "Slideshow",
  "kernelspec": {
   "display_name": "Python 3",
   "language": "python",
   "name": "python3"
  },
  "language_info": {
   "codemirror_mode": {
    "name": "ipython",
    "version": 3
   },
   "file_extension": ".py",
   "mimetype": "text/x-python",
   "name": "python",
   "nbconvert_exporter": "python",
   "pygments_lexer": "ipython3",
   "version": "3.5.3"
  }
 },
 "nbformat": 4,
 "nbformat_minor": 1
}
